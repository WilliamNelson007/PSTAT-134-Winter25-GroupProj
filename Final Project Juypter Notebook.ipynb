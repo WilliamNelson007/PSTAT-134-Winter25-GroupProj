{
 "cells": [
  {
   "cell_type": "markdown",
   "metadata": {},
   "source": [
    "## Final Project - NLP on Twitter Tweets "
   ]
  },
  {
   "cell_type": "code",
   "execution_count": 6,
   "metadata": {},
   "outputs": [
    {
     "name": "stdout",
     "output_type": "stream",
     "text": [
      "(10000, 6)\n"
     ]
    },
    {
     "data": {
      "text/html": [
       "<div>\n",
       "<style scoped>\n",
       "    .dataframe tbody tr th:only-of-type {\n",
       "        vertical-align: middle;\n",
       "    }\n",
       "\n",
       "    .dataframe tbody tr th {\n",
       "        vertical-align: top;\n",
       "    }\n",
       "\n",
       "    .dataframe thead th {\n",
       "        text-align: right;\n",
       "    }\n",
       "</style>\n",
       "<table border=\"1\" class=\"dataframe\">\n",
       "  <thead>\n",
       "    <tr style=\"text-align: right;\">\n",
       "      <th></th>\n",
       "      <th>Tweet_ID</th>\n",
       "      <th>Username</th>\n",
       "      <th>Text</th>\n",
       "      <th>Retweets</th>\n",
       "      <th>Likes</th>\n",
       "      <th>Timestamp</th>\n",
       "    </tr>\n",
       "  </thead>\n",
       "  <tbody>\n",
       "    <tr>\n",
       "      <th>0</th>\n",
       "      <td>1</td>\n",
       "      <td>julie81</td>\n",
       "      <td>Party least receive say or single. Prevent pre...</td>\n",
       "      <td>2</td>\n",
       "      <td>25</td>\n",
       "      <td>2023-01-30 11:00:51</td>\n",
       "    </tr>\n",
       "    <tr>\n",
       "      <th>1</th>\n",
       "      <td>2</td>\n",
       "      <td>richardhester</td>\n",
       "      <td>Hotel still Congress may member staff. Media d...</td>\n",
       "      <td>35</td>\n",
       "      <td>29</td>\n",
       "      <td>2023-01-02 22:45:58</td>\n",
       "    </tr>\n",
       "    <tr>\n",
       "      <th>2</th>\n",
       "      <td>3</td>\n",
       "      <td>williamsjoseph</td>\n",
       "      <td>Nice be her debate industry that year. Film wh...</td>\n",
       "      <td>51</td>\n",
       "      <td>25</td>\n",
       "      <td>2023-01-18 11:25:19</td>\n",
       "    </tr>\n",
       "    <tr>\n",
       "      <th>3</th>\n",
       "      <td>4</td>\n",
       "      <td>danielsmary</td>\n",
       "      <td>Laugh explain situation career occur serious. ...</td>\n",
       "      <td>37</td>\n",
       "      <td>18</td>\n",
       "      <td>2023-04-10 22:06:29</td>\n",
       "    </tr>\n",
       "    <tr>\n",
       "      <th>4</th>\n",
       "      <td>5</td>\n",
       "      <td>carlwarren</td>\n",
       "      <td>Involve sense former often approach government...</td>\n",
       "      <td>27</td>\n",
       "      <td>80</td>\n",
       "      <td>2023-01-24 07:12:21</td>\n",
       "    </tr>\n",
       "  </tbody>\n",
       "</table>\n",
       "</div>"
      ],
      "text/plain": [
       "   Tweet_ID        Username  \\\n",
       "0         1         julie81   \n",
       "1         2   richardhester   \n",
       "2         3  williamsjoseph   \n",
       "3         4     danielsmary   \n",
       "4         5      carlwarren   \n",
       "\n",
       "                                                Text  Retweets  Likes  \\\n",
       "0  Party least receive say or single. Prevent pre...         2     25   \n",
       "1  Hotel still Congress may member staff. Media d...        35     29   \n",
       "2  Nice be her debate industry that year. Film wh...        51     25   \n",
       "3  Laugh explain situation career occur serious. ...        37     18   \n",
       "4  Involve sense former often approach government...        27     80   \n",
       "\n",
       "             Timestamp  \n",
       "0  2023-01-30 11:00:51  \n",
       "1  2023-01-02 22:45:58  \n",
       "2  2023-01-18 11:25:19  \n",
       "3  2023-04-10 22:06:29  \n",
       "4  2023-01-24 07:12:21  "
      ]
     },
     "execution_count": 6,
     "metadata": {},
     "output_type": "execute_result"
    }
   ],
   "source": [
    "# importing neccessary packages\n",
    "import pandas as pd\n",
    "import seaborn as sb\n",
    "import numpy as np\n",
    "import pandas as pd\n",
    "\n",
    "# reading in twitter csv file\n",
    "twitter_full = pd.read_csv('data/twitter_dataset.csv')\n",
    "\n",
    "#  looking at first 5 observations and shape of csv\n",
    "print(twitter_full.shape)\n",
    "twitter_full.head()"
   ]
  },
  {
   "cell_type": "markdown",
   "metadata": {},
   "source": [
    "We can see the shape of the dataset is 10,000 columns by 6 variables. Those 6 variables are:\n",
    "\n",
    "- `Tweet_ID` - A unique identifier that maps to a specific observation\n",
    "- `Username` - The username of the person who tweeted\n",
    "- `Text` - Contains the text of the tweet\n",
    "- `Retweets` - Number of retweets\n",
    "- `Likes` - Number of likes per tweet\n",
    "- `Timestamp` - The time at which the tweet was posted"
   ]
  },
  {
   "cell_type": "code",
   "execution_count": null,
   "metadata": {},
   "outputs": [
    {
     "name": "stdout",
     "output_type": "stream",
     "text": [
      "      Tweet_ID        Username  \\\n",
      "8018      8019        nathan05   \n",
      "9225      9226  roblesjennifer   \n",
      "3854      3855        andrew52   \n",
      "2029      2030    meganenglish   \n",
      "3539      3540        fstewart   \n",
      "\n",
      "                                                   Text  Retweets  Likes  \\\n",
      "8018  his social item before director glass.\\nsave t...        72     19   \n",
      "9225  adult among research financial manage somethin...        45     54   \n",
      "3854  draw far sport yet listen production your. its...        65      3   \n",
      "2029  far there magazine happy. seat certainly reali...        96     90   \n",
      "3539  sing own upon. part month institution avoid bi...        87     52   \n",
      "\n",
      "                Timestamp  Sentiment Score Sentiment Label  \n",
      "8018  2023-04-02 18:07:41          -0.2263        Negative  \n",
      "9225  2023-05-09 09:56:43           0.3417        Positive  \n",
      "3854  2023-01-28 18:10:42           0.7269        Positive  \n",
      "2029  2023-03-07 22:27:32           0.7057        Positive  \n",
      "3539  2023-04-26 17:36:56           0.5574        Positive  \n"
     ]
    }
   ],
   "source": [
    "print(twitter_full.head())"
   ]
  },
  {
   "cell_type": "markdown",
   "metadata": {},
   "source": [
    "Let's check for any null values in our training set "
   ]
  },
  {
   "cell_type": "code",
   "execution_count": 17,
   "metadata": {},
   "outputs": [
    {
     "data": {
      "text/plain": [
       "Tweet_ID     0\n",
       "Username     0\n",
       "Text         0\n",
       "Retweets     0\n",
       "Likes        0\n",
       "Timestamp    0\n",
       "dtype: int64"
      ]
     },
     "execution_count": 17,
     "metadata": {},
     "output_type": "execute_result"
    }
   ],
   "source": [
    "# checks each column too see if null\n",
    "twitter_full.isnull().sum()"
   ]
  },
  {
   "cell_type": "markdown",
   "metadata": {},
   "source": [
    "There is no null so lets continue on and begain preparation for tokenization by applying the lower function to each tweets so capitlization is removed. Next we will load vadar and apply it to each row of the dataset to obtain the sentiment score of each tweet."
   ]
  },
  {
   "cell_type": "code",
   "execution_count": null,
   "metadata": {},
   "outputs": [],
   "source": [
    "# make the tweets all in lower case to prep for tokenization\n",
    "twitter_full['Text'] = twitter_full['Text'].str.lower()"
   ]
  },
  {
   "cell_type": "code",
   "execution_count": 20,
   "metadata": {},
   "outputs": [
    {
     "name": "stdout",
     "output_type": "stream",
     "text": [
      "                                                Text  Sentiment Score\n",
      "0  Party least receive say or single. Prevent pre...           0.8885\n",
      "1  Hotel still Congress may member staff. Media d...           0.2960\n",
      "2  Nice be her debate industry that year. Film wh...           0.8481\n",
      "3  Laugh explain situation career occur serious. ...           0.6249\n",
      "4  Involve sense former often approach government...           0.6705\n"
     ]
    }
   ],
   "source": [
    "from nltk.sentiment import SentimentIntensityAnalyzer\n",
    "import nltk\n",
    "\n",
    "# nltk.download('vader_lexicon')\n",
    "\n",
    "# loads in vaders pretrained sentiment analyzer\n",
    "sentiment_analyzer = SentimentIntensityAnalyzer()\n",
    "\n",
    "# define function that takes inputted text and returns score of sentiment\n",
    "def get_sentiment(text):\n",
    "    # polarity scores using vadar will return pos, nue, neg and compound components\n",
    "    scores = sentiment_analyzer.polarity_scores(text)\n",
    "    return scores['compound']  \n",
    "\n",
    "# apply function above to each row of training set\n",
    "twitter_full['Sentiment Score'] = twitter_full['Text'].astype(str).apply(get_sentiment)\n",
    "\n",
    "# checking if sentiments worked\n",
    "print(twitter_full[['Text', 'Sentiment Score']].head())"
   ]
  },
  {
   "cell_type": "markdown",
   "metadata": {},
   "source": [
    "We have now have gotten the sentiment compound scores which is considered a normalized sentiment score ranging from -1 to 1 (negative to positive). The ranges for the compound sentiment score include:\n",
    "\n",
    "- Negative: < -0.05 \n",
    "- Nuetral: between -0.5 and 0.5\n",
    "- Positive: > 0.05\n",
    "\n",
    "Let's assign these labels to each sentiment now by creating a new function `get_sentiment_label()`"
   ]
  },
  {
   "cell_type": "code",
   "execution_count": 19,
   "metadata": {},
   "outputs": [
    {
     "data": {
      "text/html": [
       "<div>\n",
       "<style scoped>\n",
       "    .dataframe tbody tr th:only-of-type {\n",
       "        vertical-align: middle;\n",
       "    }\n",
       "\n",
       "    .dataframe tbody tr th {\n",
       "        vertical-align: top;\n",
       "    }\n",
       "\n",
       "    .dataframe thead th {\n",
       "        text-align: right;\n",
       "    }\n",
       "</style>\n",
       "<table border=\"1\" class=\"dataframe\">\n",
       "  <thead>\n",
       "    <tr style=\"text-align: right;\">\n",
       "      <th></th>\n",
       "      <th>Tweet_ID</th>\n",
       "      <th>Username</th>\n",
       "      <th>Text</th>\n",
       "      <th>Retweets</th>\n",
       "      <th>Likes</th>\n",
       "      <th>Timestamp</th>\n",
       "      <th>Sentiment Score</th>\n",
       "    </tr>\n",
       "    <tr>\n",
       "      <th>Sentiment Label</th>\n",
       "      <th></th>\n",
       "      <th></th>\n",
       "      <th></th>\n",
       "      <th></th>\n",
       "      <th></th>\n",
       "      <th></th>\n",
       "      <th></th>\n",
       "    </tr>\n",
       "  </thead>\n",
       "  <tbody>\n",
       "    <tr>\n",
       "      <th>Negative</th>\n",
       "      <td>1711</td>\n",
       "      <td>1711</td>\n",
       "      <td>1711</td>\n",
       "      <td>1711</td>\n",
       "      <td>1711</td>\n",
       "      <td>1711</td>\n",
       "      <td>1711</td>\n",
       "    </tr>\n",
       "    <tr>\n",
       "      <th>Nuetral</th>\n",
       "      <td>388</td>\n",
       "      <td>388</td>\n",
       "      <td>388</td>\n",
       "      <td>388</td>\n",
       "      <td>388</td>\n",
       "      <td>388</td>\n",
       "      <td>388</td>\n",
       "    </tr>\n",
       "    <tr>\n",
       "      <th>Positive</th>\n",
       "      <td>7901</td>\n",
       "      <td>7901</td>\n",
       "      <td>7901</td>\n",
       "      <td>7901</td>\n",
       "      <td>7901</td>\n",
       "      <td>7901</td>\n",
       "      <td>7901</td>\n",
       "    </tr>\n",
       "  </tbody>\n",
       "</table>\n",
       "</div>"
      ],
      "text/plain": [
       "                 Tweet_ID  Username  Text  Retweets  Likes  Timestamp  \\\n",
       "Sentiment Label                                                         \n",
       "Negative             1711      1711  1711      1711   1711       1711   \n",
       "Nuetral               388       388   388       388    388        388   \n",
       "Positive             7901      7901  7901      7901   7901       7901   \n",
       "\n",
       "                 Sentiment Score  \n",
       "Sentiment Label                   \n",
       "Negative                    1711  \n",
       "Nuetral                      388  \n",
       "Positive                    7901  "
      ]
     },
     "execution_count": 19,
     "metadata": {},
     "output_type": "execute_result"
    }
   ],
   "source": [
    " # defining new sentiment label function\n",
    "def get_sentiment_label(score):\n",
    "    if score > 0.05:\n",
    "        label = 'Positive'\n",
    "    elif score < -0.05:\n",
    "        label = 'Negative'\n",
    "    else:\n",
    "        label = 'Nuetral'\n",
    "    return label\n",
    "\n",
    "twitter_full['Sentiment Label'] = twitter_full['Sentiment Score'].apply(get_sentiment_label)\n",
    "\n",
    "twitter_full.groupby('Sentiment Label').count()"
   ]
  },
  {
   "cell_type": "markdown",
   "metadata": {},
   "source": [
    "For the purposes of our project we do not need the full 10,000 observations. We wish to maintain a 80% / 20% split between training data and testing data. We also wish that they are split evenly between the 3 categories of `Sentiment Label` which include `Nuetral`, `Positive` and `Negative`. To proceed further we will randomize 3,600 observations from the original 10,000 to use and then test our model on the 400 (max limit for API) tweets aquired through the API.\n",
    "\n",
    "\n",
    "We will instead continue with proportion stratification."
   ]
  },
  {
   "cell_type": "code",
   "execution_count": null,
   "metadata": {},
   "outputs": [
    {
     "name": "stdout",
     "output_type": "stream",
     "text": [
      "Here is the proportions of Sentiment Label\n",
      "Positive    0.790833\n",
      "Negative    0.171944\n",
      "Nuetral     0.037222\n",
      "Name: proportion, dtype: float64\n",
      "Here are the needed amounts of Sentiment Label\n",
      "Positive    2847\n",
      "Negative     619\n",
      "Nuetral      134\n",
      "Name: proportion, dtype: int32\n"
     ]
    },
    {
     "name": "stderr",
     "output_type": "stream",
     "text": [
      "C:\\Users\\Michael\\AppData\\Local\\Temp\\ipykernel_29568\\2022091241.py:15: DeprecationWarning: DataFrameGroupBy.apply operated on the grouping columns. This behavior is deprecated, and in a future version of pandas the grouping columns will be excluded from the operation. Either pass `include_groups=False` to exclude the groupings or explicitly select the grouping columns after groupby to silence this warning.\n",
      "  twitter_train = twitter_train.groupby('Sentiment Label', group_keys=False).apply(\n"
     ]
    }
   ],
   "source": [
    "from sklearn.utils import resample\n",
    "\n",
    "# proportions of orginal datsset based on sentiment \n",
    "sentiment_proportions = twitter_train['Sentiment Label'].value_counts(normalize=True)\n",
    "print(f'Here is the proportions of {sentiment_proportions}') \n",
    "\n",
    "# training size we wish for \n",
    "train_size = 3600  \n",
    "\n",
    "# finds the amount of observations needed for each category\n",
    "sample_sizes = (sentiment_proportions * train_size).astype(int)\n",
    "print(f'Here are the needed amounts of {sample_sizes}')\n",
    "\n",
    "# stratified sampling based on proportions of orignial data \n",
    "twitter_train = twitter_train.groupby('Sentiment Label', group_keys=False).apply(\n",
    "    lambda x: resample(x, n_samples=sample_sizes[x.name], random_state=100)\n",
    ")\n",
    "\n",
    "# resamples the data in order to achieve randomness\n",
    "twitter_train = twitter_train.sample(frac=1, random_state=100).reset_index(drop=True)\n"
   ]
  },
  {
   "cell_type": "markdown",
   "metadata": {},
   "source": [
    "## Exploratory Data Analysis"
   ]
  },
  {
   "cell_type": "markdown",
   "metadata": {},
   "source": [
    "Posible Visualization Ideas\n",
    "\n",
    "- Amount of tweets per category (will be proportionally stratified from original dataset) (pie chart or bar)\n",
    "- Comparison to number of likes and sentiment label (maybe avergaes of both)\n",
    "- We can do textblob for most common words on each sentiment rating \n",
    "- \n",
    "\n",
    "- Do we want to do eda on both the traininf or testing set, or purely just the traininf set\n",
    "\n",
    "    - If we do both we can do side by sides of the same graphics if we want"
   ]
  },
  {
   "cell_type": "markdown",
   "metadata": {},
   "source": []
  }
 ],
 "metadata": {
  "kernelspec": {
   "display_name": "Python 3",
   "language": "python",
   "name": "python3"
  },
  "language_info": {
   "codemirror_mode": {
    "name": "ipython",
    "version": 3
   },
   "file_extension": ".py",
   "mimetype": "text/x-python",
   "name": "python",
   "nbconvert_exporter": "python",
   "pygments_lexer": "ipython3",
   "version": "3.12.5"
  }
 },
 "nbformat": 4,
 "nbformat_minor": 2
}
